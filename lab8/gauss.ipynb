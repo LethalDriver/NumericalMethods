{
 "cells": [
  {
   "cell_type": "code",
   "execution_count": 72,
   "metadata": {},
   "outputs": [],
   "source": [
    "import numpy as np"
   ]
  },
  {
   "cell_type": "code",
   "execution_count": null,
   "metadata": {},
   "outputs": [],
   "source": [
    "def to_upper_triangular(matrix, b):\n",
    "    n = matrix.shape[0]\n",
    "    for i in range(n):\n",
    "        pivot = matrix[i, i]\n",
    "        for j in range(i+1, n):\n",
    "            factor = matrix[j, i] / pivot\n",
    "            matrix[j] = matrix[j] - factor * matrix[i]\n",
    "            b[j] = b[j] - factor * b[i]\n",
    "    return matrix, b\n",
    "\n",
    "def back_subsitution(matrix, b):\n",
    "    n = matrix.shape[0]\n",
    "    x = np.zeros(n)\n",
    "    \n",
    "    x[n-1] = b[n-1] / matrix[n-1, n-1]\n",
    "    for i in range(n-2, -1, -1):\n",
    "        sum_ax = 0\n",
    "        for j in range(i+1, n):\n",
    "            sum_ax += matrix[i, j] * x[j]\n",
    "        x[i] = (b[i] - sum_ax) / matrix[i, i]\n",
    "    \n",
    "    return x\n",
    "\n",
    "def gaussian_elimination(matrix, b):\n",
    "    matrix, b = to_upper_triangular(matrix, b)\n",
    "    return back_subsitution(matrix, b)"
   ]
  },
  {
   "cell_type": "code",
   "execution_count": null,
   "metadata": {},
   "outputs": [
    {
     "name": "stdout",
     "output_type": "stream",
     "text": [
      "[[10.          2.          1.        ]\n",
      " [ 0.         -5.4         2.3       ]\n",
      " [ 0.          0.          5.24074074]]\n",
      "[ 27.         -53.4        -32.11111111]\n",
      "Expected: [ 1.85689046  7.27915194 -6.12720848]\n",
      " Actual: [ 1.85689046  7.27915194 -6.12720848]\n"
     ]
    }
   ],
   "source": [
    "matrix = np.array([[10, 2, 1], [-3, -6, 2], [1, 1, 5]], dtype=float)\n",
    "b = np.array([27, -61.5, -21.5], dtype=float)\n",
    "expected = np.linalg.solve(matrix, b)\n",
    "actual = gaussian_elimination(matrix, b)\n",
    "print(f'Expected: {expected}\\n Actual: {actual}')"
   ]
  }
 ],
 "metadata": {
  "kernelspec": {
   "display_name": "Python 3",
   "language": "python",
   "name": "python3"
  },
  "language_info": {
   "codemirror_mode": {
    "name": "ipython",
    "version": 3
   },
   "file_extension": ".py",
   "mimetype": "text/x-python",
   "name": "python",
   "nbconvert_exporter": "python",
   "pygments_lexer": "ipython3",
   "version": "3.11.6"
  }
 },
 "nbformat": 4,
 "nbformat_minor": 2
}
