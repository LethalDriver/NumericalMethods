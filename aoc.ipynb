{
 "cells": [
  {
   "cell_type": "code",
   "execution_count": 7,
   "metadata": {},
   "outputs": [
    {
     "name": "stdout",
     "output_type": "stream",
     "text": [
      "Case 1:\n",
      "  Constraints: {'Button A': {'X': 94, 'Y': 34}, 'Button B': {'X': 22, 'Y': 67}, 'Prize': {'X': 8400, 'Y': 5400}}\n",
      "Status: Infeasible\n",
      "X = 68.324324\n",
      "Y = 58.162162\n",
      "Objective = 263.13513400000005\n",
      "  No solution found\n",
      "Case 2:\n",
      "  Constraints: {'Button A': {'X': 26, 'Y': 66}, 'Button B': {'X': 67, 'Y': 21}, 'Prize': {'X': 12748, 'Y': 12176}}\n",
      "Status: Infeasible\n",
      "X = 138.26316\n",
      "Y = 138.68421\n",
      "Objective = 553.47369\n",
      "  No solution found\n",
      "Case 3:\n",
      "  Constraints: {'Button A': {'X': 17, 'Y': 86}, 'Button B': {'X': 84, 'Y': 37}, 'Prize': {'X': 7870, 'Y': 6450}}\n",
      "Status: Infeasible\n",
      "X = 39.956027\n",
      "Y = 83.613343\n",
      "Objective = 203.481424\n",
      "  No solution found\n",
      "Case 4:\n",
      "  Constraints: {'Button A': {'X': 69, 'Y': 23}, 'Button B': {'X': 27, 'Y': 71}, 'Prize': {'X': 18641, 'Y': 10279}}\n",
      "Status: Infeasible\n",
      "X = 254.11267\n",
      "Y = 48.140252\n",
      "Objective = 810.4782620000001\n",
      "  No solution found\n"
     ]
    }
   ],
   "source": [
    "import re\n",
    "import pulp\n",
    "\n",
    "# Function to parse the input file\n",
    "def parse_input_file(file_path):\n",
    "    button_a_pattern = re.compile(r\"Button A: X\\+(\\d+), Y\\+(\\d+)\")\n",
    "    button_b_pattern = re.compile(r\"Button B: X\\+(\\d+), Y\\+(\\d+)\")\n",
    "    prize_pattern = re.compile(r\"Prize: X=(\\d+), Y=(\\d+)\")\n",
    "\n",
    "    with open(file_path, 'r') as file:\n",
    "        input_text = file.read()\n",
    "\n",
    "    blocks = input_text.strip().split(\"\\n\\n\")\n",
    "    constraints = []\n",
    "\n",
    "    for block in blocks:\n",
    "        button_a_match = button_a_pattern.search(block)\n",
    "        button_b_match = button_b_pattern.search(block)\n",
    "        prize_match = prize_pattern.search(block)\n",
    "        \n",
    "        if button_a_match and button_b_match and prize_match:\n",
    "            button_a_x, button_a_y = map(int, button_a_match.groups())\n",
    "            button_b_x, button_b_y = map(int, button_b_match.groups())\n",
    "            prize_x, prize_y = map(int, prize_match.groups())\n",
    "            \n",
    "            constraints.append({\n",
    "                \"Button A\": {\"X\": button_a_x, \"Y\": button_a_y},\n",
    "                \"Button B\": {\"X\": button_b_x, \"Y\": button_b_y},\n",
    "                \"Prize\": {\"X\": prize_x, \"Y\": prize_y}\n",
    "            })\n",
    "\n",
    "    return constraints"
   ]
  }
 ],
 "metadata": {
  "kernelspec": {
   "display_name": "Python 3",
   "language": "python",
   "name": "python3"
  },
  "language_info": {
   "codemirror_mode": {
    "name": "ipython",
    "version": 3
   },
   "file_extension": ".py",
   "mimetype": "text/x-python",
   "name": "python",
   "nbconvert_exporter": "python",
   "pygments_lexer": "ipython3",
   "version": "3.11.6"
  }
 },
 "nbformat": 4,
 "nbformat_minor": 2
}
